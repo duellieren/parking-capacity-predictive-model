{
 "cells": [
  {
   "cell_type": "markdown",
   "source": [
    "## Data preprocessing\n",
    "\n",
    "In diesem Notebook werden die Daten eingelesen und für die Training des Modells vorbereitet"
   ],
   "metadata": {
    "collapsed": false
   },
   "id": "c7246a9b42c486a1"
  },
  {
   "cell_type": "code",
   "execution_count": 297,
   "outputs": [],
   "source": [
    "import pandas as pd"
   ],
   "metadata": {
    "collapsed": false,
    "ExecuteTime": {
     "end_time": "2024-03-04T22:51:14.868026Z",
     "start_time": "2024-03-04T22:51:14.865008Z"
    }
   },
   "id": "ad3db0a9f5e403f5"
  },
  {
   "cell_type": "code",
   "execution_count": 298,
   "outputs": [],
   "source": [
    "data = pd.read_excel('data/original/Ein-Ausfahrten_Wildpark_Alle.xlsx')"
   ],
   "metadata": {
    "collapsed": false,
    "ExecuteTime": {
     "end_time": "2024-03-04T22:51:15.004295Z",
     "start_time": "2024-03-04T22:51:14.869032Z"
    }
   },
   "id": "887babe2f2694c19"
  },
  {
   "cell_type": "markdown",
   "source": [
    "Im ersten Schritt wird das Target standardisiert. Dazu wird eine neue Spalte 'Diff' erstellt, die die Differenz zwischen Ein- und Ausfahrten beinhaltet."
   ],
   "metadata": {
    "collapsed": false
   },
   "id": "a34d4a9569d90f7e"
  },
  {
   "cell_type": "code",
   "execution_count": 299,
   "outputs": [],
   "source": [
    "# Berechnung der Differenz zwischen Ein- und Ausfahrten\n",
    "data['Differenz'] = data['Kurzparker Einfahrten'] - data['Kurzparker Ausfahrten']"
   ],
   "metadata": {
    "collapsed": false,
    "ExecuteTime": {
     "end_time": "2024-03-04T22:51:15.008312Z",
     "start_time": "2024-03-04T22:51:15.005301Z"
    }
   },
   "id": "5ee9f8ef720a61c0"
  },
  {
   "cell_type": "markdown",
   "source": [
    "Eine neue Spalte 'Auslastung' wird erstellt. Dazu werden die Einfahrten in die neue Spalte übernommen."
   ],
   "metadata": {
    "collapsed": false
   },
   "id": "ad318367e856e175"
  },
  {
   "cell_type": "code",
   "outputs": [],
   "source": [
    "# Erstellung der Spalte 'Auslastung'\n",
    "data['Auslastung'] = data['Kurzparker Einfahrten']"
   ],
   "metadata": {
    "collapsed": false,
    "ExecuteTime": {
     "end_time": "2024-03-04T22:51:15.015535Z",
     "start_time": "2024-03-04T22:51:15.009321Z"
    }
   },
   "id": "4e2783d90cee3127",
   "execution_count": 300
  },
  {
   "cell_type": "markdown",
   "source": [
    "Im nächsten Schritt wird für jeden Tag an dem es einen positiven Überhang an Ein- und Ausfahrten gab, jener Überhang zu den Einfahrten des darauffolgenden Tages "
   ],
   "metadata": {
    "collapsed": false
   },
   "id": "20b3d4e75e11be33"
  },
  {
   "cell_type": "code",
   "outputs": [],
   "source": [
    "# Iteration über die Daten\n",
    "for i in range(len(data)):\n",
    "    # Wenn die Differenz größer als 0 ist und die letzte Zeile noch nicht erreicht ist\n",
    "    if data['Differenz'][i] > 0 and i != len(data)-1:\n",
    "        # Der positive Überhang wird zu den Einfahrten des darauffolgenden Tages addiert\n",
    "        data.loc[i+1, 'Auslastung'] += data['Differenz'][i]\n",
    "    # Wenn die Differenz kleiner als 0 ist \n",
    "    elif data['Differenz'][i] < 0:\n",
    "        # Der negative Überhang wird als absolute Zahl zu den Ausfahrten des Tages addiert\n",
    "        data.loc[i, 'Auslastung'] += abs(data['Differenz'][i])"
   ],
   "metadata": {
    "collapsed": false,
    "ExecuteTime": {
     "end_time": "2024-03-04T22:51:15.235288Z",
     "start_time": "2024-03-04T22:51:15.017540Z"
    }
   },
   "id": "cce4883a22390b49",
   "execution_count": 301
  },
  {
   "cell_type": "code",
   "outputs": [],
   "source": [
    "# Die Spalten 'Kurzparker Einfahrten', 'Kurzparker Ausfahrten' und Differenz werden gelöscht\n",
    "data = data.drop(['Kurzparker Einfahrten', 'Kurzparker Ausfahrten', 'Differenz', 'PName'], axis=1)\n",
    "\n",
    "# Die Spalte 'Tag' wird in 'Datum' umbenannt\n",
    "data = data.rename(columns={'Tag': 'Datum'})"
   ],
   "metadata": {
    "collapsed": false,
    "ExecuteTime": {
     "end_time": "2024-03-04T22:51:15.240013Z",
     "start_time": "2024-03-04T22:51:15.236294Z"
    }
   },
   "id": "16929959b4dfbd",
   "execution_count": 302
  },
  {
   "cell_type": "code",
   "outputs": [
    {
     "data": {
      "text/plain": "       Datum  Auslastung\n0 2015-01-01         100\n1 2015-01-02          50\n2 2015-01-03          53\n3 2015-01-04         151\n4 2015-01-05          99\n5 2015-01-06         185\n6 2015-01-07          48\n7 2015-01-08          40\n8 2015-01-09          38\n9 2015-01-10         199",
      "text/html": "<div>\n<style scoped>\n    .dataframe tbody tr th:only-of-type {\n        vertical-align: middle;\n    }\n\n    .dataframe tbody tr th {\n        vertical-align: top;\n    }\n\n    .dataframe thead th {\n        text-align: right;\n    }\n</style>\n<table border=\"1\" class=\"dataframe\">\n  <thead>\n    <tr style=\"text-align: right;\">\n      <th></th>\n      <th>Datum</th>\n      <th>Auslastung</th>\n    </tr>\n  </thead>\n  <tbody>\n    <tr>\n      <th>0</th>\n      <td>2015-01-01</td>\n      <td>100</td>\n    </tr>\n    <tr>\n      <th>1</th>\n      <td>2015-01-02</td>\n      <td>50</td>\n    </tr>\n    <tr>\n      <th>2</th>\n      <td>2015-01-03</td>\n      <td>53</td>\n    </tr>\n    <tr>\n      <th>3</th>\n      <td>2015-01-04</td>\n      <td>151</td>\n    </tr>\n    <tr>\n      <th>4</th>\n      <td>2015-01-05</td>\n      <td>99</td>\n    </tr>\n    <tr>\n      <th>5</th>\n      <td>2015-01-06</td>\n      <td>185</td>\n    </tr>\n    <tr>\n      <th>6</th>\n      <td>2015-01-07</td>\n      <td>48</td>\n    </tr>\n    <tr>\n      <th>7</th>\n      <td>2015-01-08</td>\n      <td>40</td>\n    </tr>\n    <tr>\n      <th>8</th>\n      <td>2015-01-09</td>\n      <td>38</td>\n    </tr>\n    <tr>\n      <th>9</th>\n      <td>2015-01-10</td>\n      <td>199</td>\n    </tr>\n  </tbody>\n</table>\n</div>"
     },
     "execution_count": 303,
     "metadata": {},
     "output_type": "execute_result"
    }
   ],
   "source": [
    "data.head(10)"
   ],
   "metadata": {
    "collapsed": false,
    "ExecuteTime": {
     "end_time": "2024-03-04T22:51:15.248989Z",
     "start_time": "2024-03-04T22:51:15.241019Z"
    }
   },
   "id": "df78bbbf9a47c12f",
   "execution_count": 303
  },
  {
   "cell_type": "markdown",
   "source": [
    "Das Target 'Auslastung' bleibt vorerst unverändert. Als Nächstes werden die Features erstellt. Dazu wird jedem Datum der entsprechende Wochentag zugeordnet. Um die Wochentage herauszufinden, wird die Spalte 'Datum' in ein DateTime-Objekt umgewandelt und anschließend der Wochentag extrahiert. Dazu wird die Funktion `dt.dayofweek` von Pandas verwendet."
   ],
   "metadata": {
    "collapsed": false
   },
   "id": "f687eeb2c0332a5c"
  },
  {
   "cell_type": "code",
   "outputs": [],
   "source": [
    "# Hinzufügen des Wochentags als numerischer Wert (0 = Montag, 6 = Sonntag)\n",
    "data['Datum'] = pd.to_datetime(data['Datum'])\n",
    "data['Wochentag'] = data['Datum'].dt.dayofweek"
   ],
   "metadata": {
    "collapsed": false,
    "ExecuteTime": {
     "end_time": "2024-03-04T22:51:15.257499Z",
     "start_time": "2024-03-04T22:51:15.249996Z"
    }
   },
   "id": "48b0f9268f539e35",
   "execution_count": 304
  },
  {
   "cell_type": "markdown",
   "source": [
    "Als Nächstes werden die Wochentage in Sinus- und Cosinuswerte umgewandelt. Dies hat den Vorteil, dass die Wochentage zyklisch dargestellt werden und die Distanz zwischen den Wochentagen korrekt dargestellt wird. Dazu wird die Funktion `FunctionTransformer` von Scikit-Learn verwendet. Die Funktion `sin_transformer` und `cos_transformer` erstellen jeweils eine neue Spalte für den Sinus und Cosinus Wert des Wochentags. Die folgenden Funktionen zur Umwandlung der Wochentage in Sinus- und Cosinuswerte und zur Visualisierung wurden von [hier](https://scikit-learn.org/stable/auto_examples/applications/plot_cyclical_feature_engineering.html) übernommen."
   ],
   "metadata": {
    "collapsed": false
   },
   "id": "f5dc824199fffdd9"
  },
  {
   "cell_type": "code",
   "outputs": [],
   "source": [
    "from sklearn.preprocessing import FunctionTransformer\n",
    "import numpy as np"
   ],
   "metadata": {
    "collapsed": false,
    "ExecuteTime": {
     "end_time": "2024-03-04T22:51:15.262009Z",
     "start_time": "2024-03-04T22:51:15.258505Z"
    }
   },
   "id": "71a6b267a7781b83",
   "execution_count": 305
  },
  {
   "cell_type": "code",
   "outputs": [],
   "source": [
    "def sin_transformer(period):\n",
    "    return FunctionTransformer(lambda x: np.sin(x / period * 2 * np.pi))\n",
    "\n",
    "def cos_transformer(period):\n",
    "    return FunctionTransformer(lambda x: np.cos(x / period * 2 * np.pi))"
   ],
   "metadata": {
    "collapsed": false,
    "ExecuteTime": {
     "end_time": "2024-03-04T22:51:15.268547Z",
     "start_time": "2024-03-04T22:51:15.263016Z"
    }
   },
   "id": "57315ccf8ee5ea76",
   "execution_count": 306
  },
  {
   "cell_type": "code",
   "outputs": [],
   "source": [
    "data[\"Wochentag_sin\"] = sin_transformer(7).fit_transform(data[[\"Wochentag\"]])\n",
    "data[\"Wochentag_cos\"] = cos_transformer(7).fit_transform(data[[\"Wochentag\"]])"
   ],
   "metadata": {
    "collapsed": false,
    "ExecuteTime": {
     "end_time": "2024-03-04T22:51:15.277560Z",
     "start_time": "2024-03-04T22:51:15.269553Z"
    }
   },
   "id": "b6c5c3abdd56c97e",
   "execution_count": 307
  },
  {
   "cell_type": "code",
   "outputs": [
    {
     "data": {
      "text/plain": "<Figure size 700x500 with 2 Axes>",
      "image/png": "[encoded data removed]"
     },
     "metadata": {},
     "output_type": "display_data"
    }
   ],
   "source": [
    "from matplotlib import pyplot as plt\n",
    "\n",
    "fig, ax = plt.subplots(figsize=(7, 5))\n",
    "sp = ax.scatter(data[\"Wochentag_sin\"], data[\"Wochentag_cos\"], c=data[\"Wochentag\"])\n",
    "ax.set(\n",
    "    xlabel=\"sin(Wochentag)\",\n",
    "    ylabel=\"cos(Wochentag)\",\n",
    "    title = \"Wochentage\"\n",
    ")\n",
    "_ = fig.colorbar(sp)"
   ],
   "metadata": {
    "collapsed": false,
    "ExecuteTime": {
     "end_time": "2024-03-04T22:51:15.547417Z",
     "start_time": "2024-03-04T22:51:15.278589Z"
    }
   },
   "id": "decd3f553b887bc6",
   "execution_count": 308
  },
  {
   "cell_type": "markdown",
   "source": [
    "Als nächstes weird unterschieden, ob es sich um einen Wochenendtag handelt oder nicht. Dazu wird eine neue Spalte 'Wochenende' erstellt. dazu wird On-Hot-Encoding verwendet."
   ],
   "metadata": {
    "collapsed": false
   },
   "id": "565dea0b9e596e45"
  },
  {
   "cell_type": "code",
   "outputs": [],
   "source": [
    "# Hinzufügen der Spalte 'Wochenende'\n",
    "data['Wochenende'] = data['Wochentag'].apply(lambda x: 1 if x >= 5 else 0)"
   ],
   "metadata": {
    "collapsed": false,
    "ExecuteTime": {
     "end_time": "2024-03-04T22:51:15.554296Z",
     "start_time": "2024-03-04T22:51:15.547926Z"
    }
   },
   "id": "a968a73cfb4acd01",
   "execution_count": 309
  },
  {
   "cell_type": "code",
   "outputs": [],
   "source": [
    "# Die Spalte 'Wochentag' wird nicht mehr benötigt und wird gelöscht\n",
    "data = data.drop(['Wochentag'], axis=1)"
   ],
   "metadata": {
    "collapsed": false,
    "ExecuteTime": {
     "end_time": "2024-03-04T22:51:15.561865Z",
     "start_time": "2024-03-04T22:51:15.556304Z"
    }
   },
   "id": "b5a3d0b0bb3a72e6",
   "execution_count": 310
  },
  {
   "cell_type": "markdown",
   "source": [
    "Des Weiteren müssen die gesetzlichen Feiertage berücksichtigt werden. Es wird eine neue Spalte 'Feiertag' erstellt, die durch One-Hot-Encoding angibt, ob es sich um einen Feiertag handelt oder nicht."
   ],
   "metadata": {
    "collapsed": false
   },
   "id": "a205d9f133ef76f7"
  },
  {
   "cell_type": "code",
   "outputs": [],
   "source": [
    "Feiertage = [\n",
    "    {'Month': 1, 'Day': 1, 'Name': 'Neujahrstag'},\n",
    "    {'Month': 1, 'Day': 6, 'Name': 'Heilige Drei Könige'},\n",
    "    {'Month': 3, 'Day': 19, 'Name': 'Landespatron Vorarlberg (Hl. Josef)'},\n",
    "    {'Month': 5, 'Day': 1, 'Name': 'Staatsfeiertag'},\n",
    "    {'Month': 8, 'Day': 15, 'Name': 'Mariä Himmelfahrt'},\n",
    "    {'Month': 10, 'Day': 26, 'Name': 'Nationalfeiertag'},\n",
    "    {'Month': 11, 'Day': 1, 'Name': 'Allerheiligen'},\n",
    "    {'Month': 12, 'Day': 8, 'Name': 'Mariä Empfängnis'},\n",
    "    {'Month': 12, 'Day': 25, 'Name': 'Christtag'},\n",
    "    {'Month': 12, 'Day': 26, 'Name': 'Stefanitag'}\n",
    "]"
   ],
   "metadata": {
    "collapsed": false,
    "ExecuteTime": {
     "end_time": "2024-03-04T22:51:15.568996Z",
     "start_time": "2024-03-04T22:51:15.562871Z"
    }
   },
   "id": "8e800e3dd48f5629",
   "execution_count": 311
  },
  {
   "cell_type": "code",
   "outputs": [],
   "source": [
    "# Hinzufügen der Spalte 'Feiertag'\n",
    "data['Feiertag'] = data['Datum'].apply(lambda x: 1 if any((x.month == f['Month'] and x.day == f['Day']) for f in Feiertage) else 0)"
   ],
   "metadata": {
    "collapsed": false,
    "ExecuteTime": {
     "end_time": "2024-03-04T22:51:15.582902Z",
     "start_time": "2024-03-04T22:51:15.570001Z"
    }
   },
   "id": "ada184717a8774ad",
   "execution_count": 312
  },
  {
   "cell_type": "code",
   "outputs": [
    {
     "data": {
      "text/plain": "       Datum  Auslastung  Wochentag_sin  Wochentag_cos  Wochenende  Feiertag\n0 2015-01-01         100       0.433884      -0.900969           0         1\n1 2015-01-02          50      -0.433884      -0.900969           0         0\n2 2015-01-03          53      -0.974928      -0.222521           1         0\n3 2015-01-04         151      -0.781831       0.623490           1         0\n4 2015-01-05          99       0.000000       1.000000           0         0\n5 2015-01-06         185       0.781831       0.623490           0         1\n6 2015-01-07          48       0.974928      -0.222521           0         0\n7 2015-01-08          40       0.433884      -0.900969           0         0\n8 2015-01-09          38      -0.433884      -0.900969           0         0\n9 2015-01-10         199      -0.974928      -0.222521           1         0",
      "text/html": "<div>\n<style scoped>\n    .dataframe tbody tr th:only-of-type {\n        vertical-align: middle;\n    }\n\n    .dataframe tbody tr th {\n        vertical-align: top;\n    }\n\n    .dataframe thead th {\n        text-align: right;\n    }\n</style>\n<table border=\"1\" class=\"dataframe\">\n  <thead>\n    <tr style=\"text-align: right;\">\n      <th></th>\n      <th>Datum</th>\n      <th>Auslastung</th>\n      <th>Wochentag_sin</th>\n      <th>Wochentag_cos</th>\n      <th>Wochenende</th>\n      <th>Feiertag</th>\n    </tr>\n  </thead>\n  <tbody>\n    <tr>\n      <th>0</th>\n      <td>2015-01-01</td>\n      <td>100</td>\n      <td>0.433884</td>\n      <td>-0.900969</td>\n      <td>0</td>\n      <td>1</td>\n    </tr>\n    <tr>\n      <th>1</th>\n      <td>2015-01-02</td>\n      <td>50</td>\n      <td>-0.433884</td>\n      <td>-0.900969</td>\n      <td>0</td>\n      <td>0</td>\n    </tr>\n    <tr>\n      <th>2</th>\n      <td>2015-01-03</td>\n      <td>53</td>\n      <td>-0.974928</td>\n      <td>-0.222521</td>\n      <td>1</td>\n      <td>0</td>\n    </tr>\n    <tr>\n      <th>3</th>\n      <td>2015-01-04</td>\n      <td>151</td>\n      <td>-0.781831</td>\n      <td>0.623490</td>\n      <td>1</td>\n      <td>0</td>\n    </tr>\n    <tr>\n      <th>4</th>\n      <td>2015-01-05</td>\n      <td>99</td>\n      <td>0.000000</td>\n      <td>1.000000</td>\n      <td>0</td>\n      <td>0</td>\n    </tr>\n    <tr>\n      <th>5</th>\n      <td>2015-01-06</td>\n      <td>185</td>\n      <td>0.781831</td>\n      <td>0.623490</td>\n      <td>0</td>\n      <td>1</td>\n    </tr>\n    <tr>\n      <th>6</th>\n      <td>2015-01-07</td>\n      <td>48</td>\n      <td>0.974928</td>\n      <td>-0.222521</td>\n      <td>0</td>\n      <td>0</td>\n    </tr>\n    <tr>\n      <th>7</th>\n      <td>2015-01-08</td>\n      <td>40</td>\n      <td>0.433884</td>\n      <td>-0.900969</td>\n      <td>0</td>\n      <td>0</td>\n    </tr>\n    <tr>\n      <th>8</th>\n      <td>2015-01-09</td>\n      <td>38</td>\n      <td>-0.433884</td>\n      <td>-0.900969</td>\n      <td>0</td>\n      <td>0</td>\n    </tr>\n    <tr>\n      <th>9</th>\n      <td>2015-01-10</td>\n      <td>199</td>\n      <td>-0.974928</td>\n      <td>-0.222521</td>\n      <td>1</td>\n      <td>0</td>\n    </tr>\n  </tbody>\n</table>\n</div>"
     },
     "execution_count": 313,
     "metadata": {},
     "output_type": "execute_result"
    }
   ],
   "source": [
    "data.head(10)"
   ],
   "metadata": {
    "collapsed": false,
    "ExecuteTime": {
     "end_time": "2024-03-04T22:51:15.590418Z",
     "start_time": "2024-03-04T22:51:15.583910Z"
    }
   },
   "id": "ebb419cf80fc734f",
   "execution_count": 313
  }
 ],
 "metadata": {
  "kernelspec": {
   "display_name": "Python 3",
   "language": "python",
   "name": "python3"
  },
  "language_info": {
   "codemirror_mode": {
    "name": "ipython",
    "version": 2
   },
   "file_extension": ".py",
   "mimetype": "text/x-python",
   "name": "python",
   "nbconvert_exporter": "python",
   "pygments_lexer": "ipython2",
   "version": "2.7.6"
  }
 },
 "nbformat": 4,
 "nbformat_minor": 5
}
