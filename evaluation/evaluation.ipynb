{
 "cells": [
  {
   "cell_type": "markdown",
   "source": [
    "### Evaluating of the predictions\n",
    "\n",
    "In this notebook, the model is evaluated using the exemplary predictions."
   ],
   "metadata": {
    "collapsed": false
   },
   "id": "c29a8bdcf0a3ecf4"
  },
  {
   "cell_type": "code",
   "outputs": [],
   "source": [
    "import numpy as np\n",
    "import pandas as pd"
   ],
   "metadata": {
    "collapsed": false,
    "ExecuteTime": {
     "end_time": "2024-05-17T20:23:23.915981Z",
     "start_time": "2024-05-17T20:23:23.913079Z"
    }
   },
   "id": "ce619506080d7a6d",
   "execution_count": 16
  },
  {
   "cell_type": "code",
   "outputs": [],
   "source": [
    "data = pd.read_csv('../data/predictions/third_example_predictions.csv')"
   ],
   "metadata": {
    "collapsed": false,
    "ExecuteTime": {
     "end_time": "2024-05-17T20:23:23.924683Z",
     "start_time": "2024-05-17T20:23:23.916990Z"
    }
   },
   "id": "635ffb602c8a0d76",
   "execution_count": 17
  },
  {
   "cell_type": "code",
   "outputs": [
    {
     "data": {
      "text/plain": "   Predicted  Actual  Difference (%)\n0        170     130              31\n1        379     564              33\n2        145      77              88\n3        101     214              53\n4        224     175              28\n5        202     282              28\n6        147     103              43\n7        256     309              17\n8        442     463               5\n9        122      83              47",
      "text/html": "<div>\n<style scoped>\n    .dataframe tbody tr th:only-of-type {\n        vertical-align: middle;\n    }\n\n    .dataframe tbody tr th {\n        vertical-align: top;\n    }\n\n    .dataframe thead th {\n        text-align: right;\n    }\n</style>\n<table border=\"1\" class=\"dataframe\">\n  <thead>\n    <tr style=\"text-align: right;\">\n      <th></th>\n      <th>Predicted</th>\n      <th>Actual</th>\n      <th>Difference (%)</th>\n    </tr>\n  </thead>\n  <tbody>\n    <tr>\n      <th>0</th>\n      <td>170</td>\n      <td>130</td>\n      <td>31</td>\n    </tr>\n    <tr>\n      <th>1</th>\n      <td>379</td>\n      <td>564</td>\n      <td>33</td>\n    </tr>\n    <tr>\n      <th>2</th>\n      <td>145</td>\n      <td>77</td>\n      <td>88</td>\n    </tr>\n    <tr>\n      <th>3</th>\n      <td>101</td>\n      <td>214</td>\n      <td>53</td>\n    </tr>\n    <tr>\n      <th>4</th>\n      <td>224</td>\n      <td>175</td>\n      <td>28</td>\n    </tr>\n    <tr>\n      <th>5</th>\n      <td>202</td>\n      <td>282</td>\n      <td>28</td>\n    </tr>\n    <tr>\n      <th>6</th>\n      <td>147</td>\n      <td>103</td>\n      <td>43</td>\n    </tr>\n    <tr>\n      <th>7</th>\n      <td>256</td>\n      <td>309</td>\n      <td>17</td>\n    </tr>\n    <tr>\n      <th>8</th>\n      <td>442</td>\n      <td>463</td>\n      <td>5</td>\n    </tr>\n    <tr>\n      <th>9</th>\n      <td>122</td>\n      <td>83</td>\n      <td>47</td>\n    </tr>\n  </tbody>\n</table>\n</div>"
     },
     "execution_count": 18,
     "metadata": {},
     "output_type": "execute_result"
    }
   ],
   "source": [
    "data.head(10)"
   ],
   "metadata": {
    "collapsed": false,
    "ExecuteTime": {
     "end_time": "2024-05-17T20:23:23.932913Z",
     "start_time": "2024-05-17T20:23:23.925691Z"
    }
   },
   "id": "cc561eedec356c6a",
   "execution_count": 18
  },
  {
   "cell_type": "code",
   "outputs": [
    {
     "name": "stdout",
     "output_type": "stream",
     "text": [
      "Mean of the \"Difference (%)\" column: 49.12%\n"
     ]
    }
   ],
   "source": [
    "# mean of the \"Difference (%)\" column\n",
    "print('Mean of the \"Difference (%)\" column: {:.2f}%'.format(data['Difference (%)'].mean()))"
   ],
   "metadata": {
    "collapsed": false,
    "ExecuteTime": {
     "end_time": "2024-05-17T20:25:01.333899Z",
     "start_time": "2024-05-17T20:25:01.330147Z"
    }
   },
   "id": "a217058da29d38fc",
   "execution_count": 20
  },
  {
   "cell_type": "code",
   "outputs": [
    {
     "name": "stdout",
     "output_type": "stream",
     "text": [
      "Percentage of columns where \"Difference (%)\" is greater than 20: 71.82%\n"
     ]
    }
   ],
   "source": [
    "print('Percentage of columns where \"Difference (%)\" is greater than 15: {:.2f}%'.format(\n",
    "    100 * np.mean(data['Difference (%)'] > 15)\n",
    "))"
   ],
   "metadata": {
    "collapsed": false,
    "ExecuteTime": {
     "end_time": "2024-05-17T20:23:23.939339Z",
     "start_time": "2024-05-17T20:23:23.933920Z"
    }
   },
   "id": "34fcca63396e65",
   "execution_count": 19
  }
 ],
 "metadata": {
  "kernelspec": {
   "display_name": "Python 3",
   "language": "python",
   "name": "python3"
  },
  "language_info": {
   "codemirror_mode": {
    "name": "ipython",
    "version": 2
   },
   "file_extension": ".py",
   "mimetype": "text/x-python",
   "name": "python",
   "nbconvert_exporter": "python",
   "pygments_lexer": "ipython2",
   "version": "2.7.6"
  }
 },
 "nbformat": 4,
 "nbformat_minor": 5
}
