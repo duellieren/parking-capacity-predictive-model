{
 "cells": [
  {
   "cell_type": "markdown",
   "source": [
    "### Evaluating of the predictions\n",
    "\n",
    "In this notebook, the model is evaluated using the exemplary predictions."
   ],
   "metadata": {
    "collapsed": false
   },
   "id": "c29a8bdcf0a3ecf4"
  },
  {
   "cell_type": "code",
   "outputs": [],
   "source": [
    "import numpy as np\n",
    "import pandas as pd"
   ],
   "metadata": {
    "collapsed": false,
    "ExecuteTime": {
     "end_time": "2024-05-16T14:45:31.722508Z",
     "start_time": "2024-05-16T14:45:31.719288Z"
    }
   },
   "id": "ce619506080d7a6d",
   "execution_count": 12
  },
  {
   "cell_type": "code",
   "outputs": [],
   "source": [
    "data = pd.read_csv('../data/predictions/third_example_predictions.csv')"
   ],
   "metadata": {
    "collapsed": false,
    "ExecuteTime": {
     "end_time": "2024-05-16T14:45:31.731059Z",
     "start_time": "2024-05-16T14:45:31.723514Z"
    }
   },
   "id": "635ffb602c8a0d76",
   "execution_count": 13
  },
  {
   "cell_type": "code",
   "outputs": [
    {
     "name": "stdout",
     "output_type": "stream",
     "text": [
      "Percentage of columns where \"Difference (%)\" is greater than 20: 72.85%\n"
     ]
    }
   ],
   "source": [
    "print('Percentage of columns where \"Difference (%)\" is greater than 20: {:.2f}%'.format(\n",
    "    100 * np.mean(data['Difference (%)'] > 15)\n",
    "))"
   ],
   "metadata": {
    "collapsed": false,
    "ExecuteTime": {
     "end_time": "2024-05-16T15:21:38.944692Z",
     "start_time": "2024-05-16T15:21:38.941409Z"
    }
   },
   "id": "34fcca63396e65",
   "execution_count": 20
  }
 ],
 "metadata": {
  "kernelspec": {
   "display_name": "Python 3",
   "language": "python",
   "name": "python3"
  },
  "language_info": {
   "codemirror_mode": {
    "name": "ipython",
    "version": 2
   },
   "file_extension": ".py",
   "mimetype": "text/x-python",
   "name": "python",
   "nbconvert_exporter": "python",
   "pygments_lexer": "ipython2",
   "version": "2.7.6"
  }
 },
 "nbformat": 4,
 "nbformat_minor": 5
}
