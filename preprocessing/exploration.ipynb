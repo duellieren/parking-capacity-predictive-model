{
 "cells": [
  {
   "cell_type": "markdown",
   "source": [
    "## Data exploration\n",
    "\n",
    "In this notebook, the data will be explored to determine if it is complete and suitable for further processing."
   ],
   "metadata": {
    "collapsed": false
   },
   "id": "847a6555309e609f"
  },
  {
   "cell_type": "code",
   "execution_count": 1,
   "outputs": [],
   "source": [
    "import pandas as pd"
   ],
   "metadata": {
    "collapsed": false,
    "ExecuteTime": {
     "end_time": "2024-05-17T19:38:42.855613Z",
     "start_time": "2024-05-17T19:38:42.470785Z"
    }
   },
   "id": "dda7d6eab1160069"
  },
  {
   "cell_type": "markdown",
   "source": [
    "The data is read from the original Excel file and stored in a pandas DataFrame."
   ],
   "metadata": {
    "collapsed": false
   },
   "id": "ce3f7f0961cd9be6"
  },
  {
   "cell_type": "code",
   "execution_count": 2,
   "id": "initial_id",
   "metadata": {
    "collapsed": true,
    "ExecuteTime": {
     "end_time": "2024-05-17T19:38:43.211192Z",
     "start_time": "2024-05-17T19:38:42.856619Z"
    }
   },
   "outputs": [],
   "source": [
    "data = pd.read_excel('../data/original/Ein-Ausfahrten_Wildpark_Alle.xlsx')"
   ]
  },
  {
   "cell_type": "code",
   "execution_count": 3,
   "outputs": [
    {
     "data": {
      "text/plain": "         Tag  Kurzparker Einfahrten  Kurzparker Ausfahrten     PName\n0 2015-01-01                     90                    100  Wildpark\n1 2015-01-02                     50                     49  Wildpark\n2 2015-01-03                     50                     52  Wildpark\n3 2015-01-04                    151                    150  Wildpark\n4 2015-01-05                     98                     97  Wildpark\n5 2015-01-06                    184                    182  Wildpark\n6 2015-01-07                     46                     46  Wildpark\n7 2015-01-08                     40                     38  Wildpark\n8 2015-01-09                     35                     36  Wildpark\n9 2015-01-10                    199                    199  Wildpark",
      "text/html": "<div>\n<style scoped>\n    .dataframe tbody tr th:only-of-type {\n        vertical-align: middle;\n    }\n\n    .dataframe tbody tr th {\n        vertical-align: top;\n    }\n\n    .dataframe thead th {\n        text-align: right;\n    }\n</style>\n<table border=\"1\" class=\"dataframe\">\n  <thead>\n    <tr style=\"text-align: right;\">\n      <th></th>\n      <th>Tag</th>\n      <th>Kurzparker Einfahrten</th>\n      <th>Kurzparker Ausfahrten</th>\n      <th>PName</th>\n    </tr>\n  </thead>\n  <tbody>\n    <tr>\n      <th>0</th>\n      <td>2015-01-01</td>\n      <td>90</td>\n      <td>100</td>\n      <td>Wildpark</td>\n    </tr>\n    <tr>\n      <th>1</th>\n      <td>2015-01-02</td>\n      <td>50</td>\n      <td>49</td>\n      <td>Wildpark</td>\n    </tr>\n    <tr>\n      <th>2</th>\n      <td>2015-01-03</td>\n      <td>50</td>\n      <td>52</td>\n      <td>Wildpark</td>\n    </tr>\n    <tr>\n      <th>3</th>\n      <td>2015-01-04</td>\n      <td>151</td>\n      <td>150</td>\n      <td>Wildpark</td>\n    </tr>\n    <tr>\n      <th>4</th>\n      <td>2015-01-05</td>\n      <td>98</td>\n      <td>97</td>\n      <td>Wildpark</td>\n    </tr>\n    <tr>\n      <th>5</th>\n      <td>2015-01-06</td>\n      <td>184</td>\n      <td>182</td>\n      <td>Wildpark</td>\n    </tr>\n    <tr>\n      <th>6</th>\n      <td>2015-01-07</td>\n      <td>46</td>\n      <td>46</td>\n      <td>Wildpark</td>\n    </tr>\n    <tr>\n      <th>7</th>\n      <td>2015-01-08</td>\n      <td>40</td>\n      <td>38</td>\n      <td>Wildpark</td>\n    </tr>\n    <tr>\n      <th>8</th>\n      <td>2015-01-09</td>\n      <td>35</td>\n      <td>36</td>\n      <td>Wildpark</td>\n    </tr>\n    <tr>\n      <th>9</th>\n      <td>2015-01-10</td>\n      <td>199</td>\n      <td>199</td>\n      <td>Wildpark</td>\n    </tr>\n  </tbody>\n</table>\n</div>"
     },
     "execution_count": 3,
     "metadata": {},
     "output_type": "execute_result"
    }
   ],
   "source": [
    "# The first 10 rows of the DataFrame are displayed.\n",
    "data.head(10)"
   ],
   "metadata": {
    "collapsed": false,
    "ExecuteTime": {
     "end_time": "2024-05-17T19:38:43.222443Z",
     "start_time": "2024-05-17T19:38:43.212197Z"
    }
   },
   "id": "9cde50cbe7791b1a"
  },
  {
   "cell_type": "code",
   "execution_count": 4,
   "outputs": [
    {
     "data": {
      "text/plain": "            Tag  Kurzparker Einfahrten  Kurzparker Ausfahrten     PName\n2995 2023-04-24                     45                     45  Wildpark\n2996 2023-04-25                     39                     39  Wildpark\n2997 2023-04-26                    111                    112  Wildpark\n2998 2023-04-27                    105                    107  Wildpark\n2999 2023-04-28                     33                     33  Wildpark\n3000 2023-04-29                    205                    205  Wildpark\n3001 2023-04-30                    422                    424  Wildpark\n3002 2023-05-01                    100                    100  Wildpark\n3003 2023-05-02                     53                     53  Wildpark\n3004 2023-05-03                     76                     30  Wildpark",
      "text/html": "<div>\n<style scoped>\n    .dataframe tbody tr th:only-of-type {\n        vertical-align: middle;\n    }\n\n    .dataframe tbody tr th {\n        vertical-align: top;\n    }\n\n    .dataframe thead th {\n        text-align: right;\n    }\n</style>\n<table border=\"1\" class=\"dataframe\">\n  <thead>\n    <tr style=\"text-align: right;\">\n      <th></th>\n      <th>Tag</th>\n      <th>Kurzparker Einfahrten</th>\n      <th>Kurzparker Ausfahrten</th>\n      <th>PName</th>\n    </tr>\n  </thead>\n  <tbody>\n    <tr>\n      <th>2995</th>\n      <td>2023-04-24</td>\n      <td>45</td>\n      <td>45</td>\n      <td>Wildpark</td>\n    </tr>\n    <tr>\n      <th>2996</th>\n      <td>2023-04-25</td>\n      <td>39</td>\n      <td>39</td>\n      <td>Wildpark</td>\n    </tr>\n    <tr>\n      <th>2997</th>\n      <td>2023-04-26</td>\n      <td>111</td>\n      <td>112</td>\n      <td>Wildpark</td>\n    </tr>\n    <tr>\n      <th>2998</th>\n      <td>2023-04-27</td>\n      <td>105</td>\n      <td>107</td>\n      <td>Wildpark</td>\n    </tr>\n    <tr>\n      <th>2999</th>\n      <td>2023-04-28</td>\n      <td>33</td>\n      <td>33</td>\n      <td>Wildpark</td>\n    </tr>\n    <tr>\n      <th>3000</th>\n      <td>2023-04-29</td>\n      <td>205</td>\n      <td>205</td>\n      <td>Wildpark</td>\n    </tr>\n    <tr>\n      <th>3001</th>\n      <td>2023-04-30</td>\n      <td>422</td>\n      <td>424</td>\n      <td>Wildpark</td>\n    </tr>\n    <tr>\n      <th>3002</th>\n      <td>2023-05-01</td>\n      <td>100</td>\n      <td>100</td>\n      <td>Wildpark</td>\n    </tr>\n    <tr>\n      <th>3003</th>\n      <td>2023-05-02</td>\n      <td>53</td>\n      <td>53</td>\n      <td>Wildpark</td>\n    </tr>\n    <tr>\n      <th>3004</th>\n      <td>2023-05-03</td>\n      <td>76</td>\n      <td>30</td>\n      <td>Wildpark</td>\n    </tr>\n  </tbody>\n</table>\n</div>"
     },
     "execution_count": 4,
     "metadata": {},
     "output_type": "execute_result"
    }
   ],
   "source": [
    "# The last 10 rows of the DataFrame are displayed.\n",
    "data.tail(10)"
   ],
   "metadata": {
    "collapsed": false,
    "ExecuteTime": {
     "end_time": "2024-05-17T19:38:43.229106Z",
     "start_time": "2024-05-17T19:38:43.223448Z"
    }
   },
   "id": "56b0c969deb6f638"
  },
  {
   "cell_type": "code",
   "execution_count": 5,
   "outputs": [],
   "source": [
    "# The column 'PName' is dropped, because it contains only the name of the parking facility and is not needed for the analysis.\n",
    "data = data.drop(columns=['PName'])"
   ],
   "metadata": {
    "collapsed": false,
    "ExecuteTime": {
     "end_time": "2024-05-17T19:38:43.236415Z",
     "start_time": "2024-05-17T19:38:43.230111Z"
    }
   },
   "id": "f0f7aa0fa008d26d"
  },
  {
   "cell_type": "code",
   "execution_count": 6,
   "outputs": [
    {
     "name": "stdout",
     "output_type": "stream",
     "text": [
      "Empty DataFrame\n",
      "Columns: [Tag, Kurzparker Einfahrten, Kurzparker Ausfahrten]\n",
      "Index: []\n"
     ]
    }
   ],
   "source": [
    "# Checking if there are any missing values in the DataFrame.\n",
    "print(data[data.isna().any(axis=1)])"
   ],
   "metadata": {
    "collapsed": false,
    "ExecuteTime": {
     "end_time": "2024-05-17T19:38:43.245394Z",
     "start_time": "2024-05-17T19:38:43.237420Z"
    }
   },
   "id": "25d18f20b43ffa93"
  },
  {
   "cell_type": "code",
   "execution_count": 7,
   "outputs": [
    {
     "name": "stdout",
     "output_type": "stream",
     "text": [
      "Empty DataFrame\n",
      "Columns: [Tag, Kurzparker Einfahrten, Kurzparker Ausfahrten]\n",
      "Index: []\n"
     ]
    }
   ],
   "source": [
    "# Checking if there are any duplicated rows in the DataFrame.\n",
    "print(data[data.duplicated()])"
   ],
   "metadata": {
    "collapsed": false,
    "ExecuteTime": {
     "end_time": "2024-05-17T19:38:43.252489Z",
     "start_time": "2024-05-17T19:38:43.246400Z"
    }
   },
   "id": "615f448a603f40a5"
  },
  {
   "cell_type": "code",
   "execution_count": 8,
   "outputs": [
    {
     "name": "stdout",
     "output_type": "stream",
     "text": [
      "Empty DataFrame\n",
      "Columns: [Tag, Kurzparker Einfahrten, Kurzparker Ausfahrten]\n",
      "Index: []\n"
     ]
    }
   ],
   "source": [
    "# Checking if there are any duplicated values in the column 'Tag'.\n",
    "print(data[data['Tag'].duplicated()])"
   ],
   "metadata": {
    "collapsed": false,
    "ExecuteTime": {
     "end_time": "2024-05-17T19:38:43.258114Z",
     "start_time": "2024-05-17T19:38:43.253495Z"
    }
   },
   "id": "be87a6b984d8333e"
  },
  {
   "cell_type": "code",
   "execution_count": 9,
   "outputs": [
    {
     "name": "stdout",
     "output_type": "stream",
     "text": [
      "Number of days between 1.1.2015 and 5.3.2023: 3045\n",
      "Number of days in the data: 3005\n",
      "Number of days missing from the data: 40\n"
     ]
    }
   ],
   "source": [
    "# The number of days between 1.1.2015 and 3.5.2023 is calculated.\n",
    "days = pd.date_range(start='2015-01-01', end='2023-05-03').nunique()\n",
    "\n",
    "# The number of days contained in the data is retrieved.\n",
    "days_in_data = data['Tag'].nunique()\n",
    "\n",
    "print(f'Number of days between 1.1.2015 and 5.3.2023: {days}')\n",
    "print(f'Number of days in the data: {days_in_data}')\n",
    "print(f'Number of days missing from the data: {days - days_in_data}')"
   ],
   "metadata": {
    "collapsed": false,
    "ExecuteTime": {
     "end_time": "2024-05-17T19:38:43.266140Z",
     "start_time": "2024-05-17T19:38:43.259170Z"
    }
   },
   "id": "6eb97b269bf0aa28"
  },
  {
   "cell_type": "markdown",
   "source": [
    "The number of days included in the data is less than the number of days between 1.1.2015 and 5.3.2023. There are 40 days missing in the data. The missing days are calculated and displayed below"
   ],
   "metadata": {
    "collapsed": false
   },
   "id": "a416d9690171807d"
  },
  {
   "cell_type": "code",
   "execution_count": 10,
   "outputs": [
    {
     "name": "stdout",
     "output_type": "stream",
     "text": [
      "Missing days: DatetimeIndex(['2015-07-17', '2015-07-18', '2015-07-19', '2016-12-06',\n",
      "               '2016-12-07', '2017-07-05', '2017-07-06', '2017-07-07',\n",
      "               '2017-07-08', '2017-07-09', '2017-10-03', '2017-10-04',\n",
      "               '2017-10-05', '2017-12-19', '2018-09-24', '2018-09-25',\n",
      "               '2018-09-26', '2019-07-27', '2019-07-28', '2019-07-29',\n",
      "               '2019-07-30', '2019-07-31', '2019-08-01', '2019-08-02',\n",
      "               '2019-08-03', '2019-08-04', '2019-08-05', '2019-08-06',\n",
      "               '2019-10-16', '2019-10-17', '2019-10-18', '2020-08-19',\n",
      "               '2020-08-20', '2020-12-18', '2020-12-19', '2020-12-20',\n",
      "               '2020-12-21', '2022-07-29', '2022-07-30', '2022-07-31'],\n",
      "              dtype='datetime64[ns]', freq=None)\n"
     ]
    }
   ],
   "source": [
    "missing_days = pd.date_range(start='2015-01-01', end='2023-05-03').difference(data['Tag'])\n",
    "print(f'Missing days: {missing_days}')"
   ],
   "metadata": {
    "collapsed": false,
    "ExecuteTime": {
     "end_time": "2024-05-17T19:38:43.273037Z",
     "start_time": "2024-05-17T19:38:43.267147Z"
    }
   },
   "id": "13c01669d00ff2ed"
  },
  {
   "cell_type": "code",
   "execution_count": 11,
   "outputs": [
    {
     "name": "stdout",
     "output_type": "stream",
     "text": [
      "Percentage of missing days: 1.31%\n"
     ]
    }
   ],
   "source": [
    "# The percentage of missing days is calculated.\n",
    "missing_days_percentage = (len(missing_days) / days) * 100\n",
    "print(f'Percentage of missing days: {missing_days_percentage:.2f}%')"
   ],
   "metadata": {
    "collapsed": false,
    "ExecuteTime": {
     "end_time": "2024-05-17T19:38:43.278747Z",
     "start_time": "2024-05-17T19:38:43.274042Z"
    }
   },
   "id": "828634d707edfd60"
  },
  {
   "cell_type": "markdown",
   "source": [
    "The data is sufficiently complete and can be further processed, but the first few columns show that a different number of entries and exits were measured on several days."
   ],
   "metadata": {
    "collapsed": false
   },
   "id": "2b53154f9362e241"
  },
  {
   "cell_type": "code",
   "outputs": [
    {
     "name": "stdout",
     "output_type": "stream",
     "text": [
      "Percentage of days when the number of entries and exits is different: 70.65%\n"
     ]
    }
   ],
   "source": [
    "# Checking if there are any days when the number of entries and exits is different and calculate the percentage of these days.\n",
    "different_values_percentage = (data[data['Kurzparker Einfahrten'] != data['Kurzparker Ausfahrten']].shape[0] / days_in_data) * 100\n",
    "print(f'Percentage of days when the number of entries and exits is different: {different_values_percentage:.2f}%')"
   ],
   "metadata": {
    "collapsed": false,
    "ExecuteTime": {
     "end_time": "2024-05-17T19:38:43.286103Z",
     "start_time": "2024-05-17T19:38:43.279752Z"
    }
   },
   "id": "2c9a03fe6a53355a",
   "execution_count": 12
  }
 ],
 "metadata": {
  "kernelspec": {
   "display_name": "Python 3",
   "language": "python",
   "name": "python3"
  },
  "language_info": {
   "codemirror_mode": {
    "name": "ipython",
    "version": 2
   },
   "file_extension": ".py",
   "mimetype": "text/x-python",
   "name": "python",
   "nbconvert_exporter": "python",
   "pygments_lexer": "ipython2",
   "version": "2.7.6"
  }
 },
 "nbformat": 4,
 "nbformat_minor": 5
}
