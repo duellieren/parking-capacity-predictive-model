{
 "cells": [
  {
   "cell_type": "markdown",
   "source": [
    "## Data exploration\n",
    "\n",
    "In diesem Notebook werden die Daten aus der originalen Excel-Datei eingelesen und grundlegende Betrachtungen und Überprüfungen durchgeführt."
   ],
   "metadata": {
    "collapsed": false
   },
   "id": "847a6555309e609f"
  },
  {
   "cell_type": "code",
   "execution_count": 13,
   "outputs": [],
   "source": [
    "# Pandas ist eine Bibliothek, die das Einlesen und Verarbeiten von Daten erleichtert.\n",
    "import pandas as pd"
   ],
   "metadata": {
    "collapsed": false,
    "ExecuteTime": {
     "end_time": "2024-03-04T22:48:11.108863Z",
     "start_time": "2024-03-04T22:48:11.105649Z"
    }
   },
   "id": "dda7d6eab1160069"
  },
  {
   "cell_type": "markdown",
   "source": [
    "Der erste Schritt ist das Einlesen der Daten aus der originalen Excel-Datei.\n",
    "Die Daten werden für die weiteren Schritte in einem DataFrame gespeichert."
   ],
   "metadata": {
    "collapsed": false
   },
   "id": "ce3f7f0961cd9be6"
  },
  {
   "cell_type": "code",
   "execution_count": 14,
   "id": "initial_id",
   "metadata": {
    "collapsed": true,
    "ExecuteTime": {
     "end_time": "2024-03-04T22:48:11.255675Z",
     "start_time": "2024-03-04T22:48:11.109872Z"
    }
   },
   "outputs": [],
   "source": [
    "data = pd.read_excel('data/original/Ein-Ausfahrten_Wildpark_Alle.xlsx')"
   ]
  },
  {
   "cell_type": "code",
   "execution_count": 15,
   "outputs": [
    {
     "data": {
      "text/plain": "         Tag  Kurzparker Einfahrten  Kurzparker Ausfahrten     PName\n0 2015-01-01                     90                    100  Wildpark\n1 2015-01-02                     50                     49  Wildpark\n2 2015-01-03                     50                     52  Wildpark\n3 2015-01-04                    151                    150  Wildpark\n4 2015-01-05                     98                     97  Wildpark\n5 2015-01-06                    184                    182  Wildpark\n6 2015-01-07                     46                     46  Wildpark\n7 2015-01-08                     40                     38  Wildpark\n8 2015-01-09                     35                     36  Wildpark\n9 2015-01-10                    199                    199  Wildpark",
      "text/html": "<div>\n<style scoped>\n    .dataframe tbody tr th:only-of-type {\n        vertical-align: middle;\n    }\n\n    .dataframe tbody tr th {\n        vertical-align: top;\n    }\n\n    .dataframe thead th {\n        text-align: right;\n    }\n</style>\n<table border=\"1\" class=\"dataframe\">\n  <thead>\n    <tr style=\"text-align: right;\">\n      <th></th>\n      <th>Tag</th>\n      <th>Kurzparker Einfahrten</th>\n      <th>Kurzparker Ausfahrten</th>\n      <th>PName</th>\n    </tr>\n  </thead>\n  <tbody>\n    <tr>\n      <th>0</th>\n      <td>2015-01-01</td>\n      <td>90</td>\n      <td>100</td>\n      <td>Wildpark</td>\n    </tr>\n    <tr>\n      <th>1</th>\n      <td>2015-01-02</td>\n      <td>50</td>\n      <td>49</td>\n      <td>Wildpark</td>\n    </tr>\n    <tr>\n      <th>2</th>\n      <td>2015-01-03</td>\n      <td>50</td>\n      <td>52</td>\n      <td>Wildpark</td>\n    </tr>\n    <tr>\n      <th>3</th>\n      <td>2015-01-04</td>\n      <td>151</td>\n      <td>150</td>\n      <td>Wildpark</td>\n    </tr>\n    <tr>\n      <th>4</th>\n      <td>2015-01-05</td>\n      <td>98</td>\n      <td>97</td>\n      <td>Wildpark</td>\n    </tr>\n    <tr>\n      <th>5</th>\n      <td>2015-01-06</td>\n      <td>184</td>\n      <td>182</td>\n      <td>Wildpark</td>\n    </tr>\n    <tr>\n      <th>6</th>\n      <td>2015-01-07</td>\n      <td>46</td>\n      <td>46</td>\n      <td>Wildpark</td>\n    </tr>\n    <tr>\n      <th>7</th>\n      <td>2015-01-08</td>\n      <td>40</td>\n      <td>38</td>\n      <td>Wildpark</td>\n    </tr>\n    <tr>\n      <th>8</th>\n      <td>2015-01-09</td>\n      <td>35</td>\n      <td>36</td>\n      <td>Wildpark</td>\n    </tr>\n    <tr>\n      <th>9</th>\n      <td>2015-01-10</td>\n      <td>199</td>\n      <td>199</td>\n      <td>Wildpark</td>\n    </tr>\n  </tbody>\n</table>\n</div>"
     },
     "execution_count": 15,
     "metadata": {},
     "output_type": "execute_result"
    }
   ],
   "source": [
    "# Die ersten 10 Zeilen des DataFrames werden ausgegeben.\n",
    "data.head(10)"
   ],
   "metadata": {
    "collapsed": false,
    "ExecuteTime": {
     "end_time": "2024-03-04T22:48:11.264193Z",
     "start_time": "2024-03-04T22:48:11.256682Z"
    }
   },
   "id": "9cde50cbe7791b1a"
  },
  {
   "cell_type": "code",
   "execution_count": 16,
   "outputs": [
    {
     "data": {
      "text/plain": "            Tag  Kurzparker Einfahrten  Kurzparker Ausfahrten     PName\n2995 2023-04-24                     45                     45  Wildpark\n2996 2023-04-25                     39                     39  Wildpark\n2997 2023-04-26                    111                    112  Wildpark\n2998 2023-04-27                    105                    107  Wildpark\n2999 2023-04-28                     33                     33  Wildpark\n3000 2023-04-29                    205                    205  Wildpark\n3001 2023-04-30                    422                    424  Wildpark\n3002 2023-05-01                    100                    100  Wildpark\n3003 2023-05-02                     53                     53  Wildpark\n3004 2023-05-03                     76                     30  Wildpark",
      "text/html": "<div>\n<style scoped>\n    .dataframe tbody tr th:only-of-type {\n        vertical-align: middle;\n    }\n\n    .dataframe tbody tr th {\n        vertical-align: top;\n    }\n\n    .dataframe thead th {\n        text-align: right;\n    }\n</style>\n<table border=\"1\" class=\"dataframe\">\n  <thead>\n    <tr style=\"text-align: right;\">\n      <th></th>\n      <th>Tag</th>\n      <th>Kurzparker Einfahrten</th>\n      <th>Kurzparker Ausfahrten</th>\n      <th>PName</th>\n    </tr>\n  </thead>\n  <tbody>\n    <tr>\n      <th>2995</th>\n      <td>2023-04-24</td>\n      <td>45</td>\n      <td>45</td>\n      <td>Wildpark</td>\n    </tr>\n    <tr>\n      <th>2996</th>\n      <td>2023-04-25</td>\n      <td>39</td>\n      <td>39</td>\n      <td>Wildpark</td>\n    </tr>\n    <tr>\n      <th>2997</th>\n      <td>2023-04-26</td>\n      <td>111</td>\n      <td>112</td>\n      <td>Wildpark</td>\n    </tr>\n    <tr>\n      <th>2998</th>\n      <td>2023-04-27</td>\n      <td>105</td>\n      <td>107</td>\n      <td>Wildpark</td>\n    </tr>\n    <tr>\n      <th>2999</th>\n      <td>2023-04-28</td>\n      <td>33</td>\n      <td>33</td>\n      <td>Wildpark</td>\n    </tr>\n    <tr>\n      <th>3000</th>\n      <td>2023-04-29</td>\n      <td>205</td>\n      <td>205</td>\n      <td>Wildpark</td>\n    </tr>\n    <tr>\n      <th>3001</th>\n      <td>2023-04-30</td>\n      <td>422</td>\n      <td>424</td>\n      <td>Wildpark</td>\n    </tr>\n    <tr>\n      <th>3002</th>\n      <td>2023-05-01</td>\n      <td>100</td>\n      <td>100</td>\n      <td>Wildpark</td>\n    </tr>\n    <tr>\n      <th>3003</th>\n      <td>2023-05-02</td>\n      <td>53</td>\n      <td>53</td>\n      <td>Wildpark</td>\n    </tr>\n    <tr>\n      <th>3004</th>\n      <td>2023-05-03</td>\n      <td>76</td>\n      <td>30</td>\n      <td>Wildpark</td>\n    </tr>\n  </tbody>\n</table>\n</div>"
     },
     "execution_count": 16,
     "metadata": {},
     "output_type": "execute_result"
    }
   ],
   "source": [
    "# Die letzten 10 Zeilen des DataFrames werden ausgegeben.\n",
    "data.tail(10)"
   ],
   "metadata": {
    "collapsed": false,
    "ExecuteTime": {
     "end_time": "2024-03-04T22:48:11.273458Z",
     "start_time": "2024-03-04T22:48:11.265204Z"
    }
   },
   "id": "56b0c969deb6f638"
  },
  {
   "cell_type": "code",
   "execution_count": 17,
   "outputs": [],
   "source": [
    "# Die Spalte 'PName' enthält den Namen der Parkmöglichkeit und wird entfernt, da sie nicht benötigt wird.\n",
    "data = data.drop(columns=['PName'])"
   ],
   "metadata": {
    "collapsed": false,
    "ExecuteTime": {
     "end_time": "2024-03-04T22:48:11.279458Z",
     "start_time": "2024-03-04T22:48:11.274468Z"
    }
   },
   "id": "f0f7aa0fa008d26d"
  },
  {
   "cell_type": "code",
   "execution_count": 18,
   "outputs": [
    {
     "name": "stdout",
     "output_type": "stream",
     "text": [
      "Empty DataFrame\n",
      "Columns: [Tag, Kurzparker Einfahrten, Kurzparker Ausfahrten]\n",
      "Index: []\n"
     ]
    }
   ],
   "source": [
    "# Es wird überprüft, ob es Reihen mit fehlenden Werten (NaN-Werten) gibt.\n",
    "print(data[data.isna().any(axis=1)])"
   ],
   "metadata": {
    "collapsed": false,
    "ExecuteTime": {
     "end_time": "2024-03-04T22:48:11.286902Z",
     "start_time": "2024-03-04T22:48:11.280463Z"
    }
   },
   "id": "25d18f20b43ffa93"
  },
  {
   "cell_type": "code",
   "execution_count": 19,
   "outputs": [
    {
     "name": "stdout",
     "output_type": "stream",
     "text": [
      "Empty DataFrame\n",
      "Columns: [Tag, Kurzparker Einfahrten, Kurzparker Ausfahrten]\n",
      "Index: []\n"
     ]
    }
   ],
   "source": [
    "# Es wird überprüft, ob es Reihen mit duplizierten Werten gibt.\n",
    "print(data[data.duplicated()])"
   ],
   "metadata": {
    "collapsed": false,
    "ExecuteTime": {
     "end_time": "2024-03-04T22:48:11.294608Z",
     "start_time": "2024-03-04T22:48:11.287909Z"
    }
   },
   "id": "615f448a603f40a5"
  },
  {
   "cell_type": "code",
   "execution_count": 20,
   "outputs": [
    {
     "name": "stdout",
     "output_type": "stream",
     "text": [
      "Empty DataFrame\n",
      "Columns: [Tag, Kurzparker Einfahrten, Kurzparker Ausfahrten]\n",
      "Index: []\n"
     ]
    }
   ],
   "source": [
    "# Es wird überprüft, ob es doplizierte Werte in der Spalte 'Tag' gibt.\n",
    "print(data[data['Tag'].duplicated()])"
   ],
   "metadata": {
    "collapsed": false,
    "ExecuteTime": {
     "end_time": "2024-03-04T22:48:11.300636Z",
     "start_time": "2024-03-04T22:48:11.295614Z"
    }
   },
   "id": "be87a6b984d8333e"
  },
  {
   "cell_type": "code",
   "execution_count": 21,
   "outputs": [
    {
     "name": "stdout",
     "output_type": "stream",
     "text": [
      "Anzahl der Tage zwischen dem 1.1.2015 und dem 3.5.2023: 3045\n",
      "Anzahl der Tage, die in den Daten enthalten sind: 3005\n",
      "Anzahl der fehlenden Tage: 40\n"
     ]
    }
   ],
   "source": [
    "# Die Anzahl der Tage zwischen vom 1.1.2015 bis zum 3.5.2023 wird berechnet\n",
    "days = pd.date_range(start='2015-01-01', end='2023-05-03').nunique()\n",
    "\n",
    "# Die Anzahl der Tage, die in den Daten enthalten sind, wird berechnet\n",
    "days_in_data = data['Tag'].nunique()\n",
    "\n",
    "print(f'Anzahl der Tage zwischen dem 1.1.2015 und dem 3.5.2023: {days}')\n",
    "print(f'Anzahl der Tage, die in den Daten enthalten sind: {days_in_data}')\n",
    "print(f'Anzahl der fehlenden Tage: {days - days_in_data}')\n"
   ],
   "metadata": {
    "collapsed": false,
    "ExecuteTime": {
     "end_time": "2024-03-04T22:48:11.307085Z",
     "start_time": "2024-03-04T22:48:11.301645Z"
    }
   },
   "id": "6eb97b269bf0aa28"
  },
  {
   "cell_type": "markdown",
   "source": [
    "Die Anzahl der Tage, die in den Daten enthalten sind, ist kleiner als die Anzahl der Tage zwischen dem 1.1.2015 und dem 3.5.2023. Es fehlen 40 Tage in den Daten."
   ],
   "metadata": {
    "collapsed": false
   },
   "id": "a416d9690171807d"
  },
  {
   "cell_type": "code",
   "execution_count": 22,
   "outputs": [
    {
     "name": "stdout",
     "output_type": "stream",
     "text": [
      "Fehlende Tage: DatetimeIndex(['2015-07-17', '2015-07-18', '2015-07-19', '2016-12-06',\n",
      "               '2016-12-07', '2017-07-05', '2017-07-06', '2017-07-07',\n",
      "               '2017-07-08', '2017-07-09', '2017-10-03', '2017-10-04',\n",
      "               '2017-10-05', '2017-12-19', '2018-09-24', '2018-09-25',\n",
      "               '2018-09-26', '2019-07-27', '2019-07-28', '2019-07-29',\n",
      "               '2019-07-30', '2019-07-31', '2019-08-01', '2019-08-02',\n",
      "               '2019-08-03', '2019-08-04', '2019-08-05', '2019-08-06',\n",
      "               '2019-10-16', '2019-10-17', '2019-10-18', '2020-08-19',\n",
      "               '2020-08-20', '2020-12-18', '2020-12-19', '2020-12-20',\n",
      "               '2020-12-21', '2022-07-29', '2022-07-30', '2022-07-31'],\n",
      "              dtype='datetime64[ns]', freq=None)\n"
     ]
    }
   ],
   "source": [
    "missing_days = pd.date_range(start='2015-01-01', end='2023-05-03').difference(data['Tag'])\n",
    "print(f'Fehlende Tage: {missing_days}')"
   ],
   "metadata": {
    "collapsed": false,
    "ExecuteTime": {
     "end_time": "2024-03-04T22:48:11.314257Z",
     "start_time": "2024-03-04T22:48:11.308090Z"
    }
   },
   "id": "13c01669d00ff2ed"
  },
  {
   "cell_type": "code",
   "execution_count": 23,
   "outputs": [
    {
     "name": "stdout",
     "output_type": "stream",
     "text": [
      "Prozentsatz der fehlenden Tage an der Gesamtanzahl der Tage: 1.31%\n"
     ]
    }
   ],
   "source": [
    "# Prozentsatz der fehlenden Tage an der Gesamtanzahl der Tage\n",
    "missing_days_percentage = (len(missing_days) / days) * 100\n",
    "print(f'Prozentsatz der fehlenden Tage an der Gesamtanzahl der Tage: {missing_days_percentage:.2f}%')"
   ],
   "metadata": {
    "collapsed": false,
    "ExecuteTime": {
     "end_time": "2024-03-04T22:48:11.320039Z",
     "start_time": "2024-03-04T22:48:11.315262Z"
    }
   },
   "id": "828634d707edfd60"
  },
  {
   "cell_type": "markdown",
   "source": [
    "Die Daten sind ausreichend vollständig und können weiterverarbeitet werden, allerdings zeigen bereist die ersten Spalten, dass an mehreren Tagen eine unterschiedliche Anzahl an Ein- und Ausfahrten gemessen wurde."
   ],
   "metadata": {
    "collapsed": false
   },
   "id": "2b53154f9362e241"
  },
  {
   "cell_type": "code",
   "outputs": [
    {
     "name": "stdout",
     "output_type": "stream",
     "text": [
      "Prozentsatz der Tage, an denen die Anzahl der Ein- und Ausfahrten unterschiedlich ist: 70.65%\n"
     ]
    }
   ],
   "source": [
    "# Der Prozentsatz der Tage, an denen die Anzahl der Ein- und Ausfahrten unterschiedlich ist, wird berechnet.\n",
    "different_values_percentage = (data[data['Kurzparker Einfahrten'] != data['Kurzparker Ausfahrten']].shape[0] / days_in_data) * 100\n",
    "print(f'Prozentsatz der Tage, an denen die Anzahl der Ein- und Ausfahrten unterschiedlich ist: {different_values_percentage:.2f}%')"
   ],
   "metadata": {
    "collapsed": false,
    "ExecuteTime": {
     "end_time": "2024-03-04T22:48:11.327576Z",
     "start_time": "2024-03-04T22:48:11.321046Z"
    }
   },
   "id": "2c9a03fe6a53355a",
   "execution_count": 24
  },
  {
   "cell_type": "code",
   "outputs": [],
   "source": [],
   "metadata": {
    "collapsed": false,
    "ExecuteTime": {
     "end_time": "2024-03-04T22:48:11.330327Z",
     "start_time": "2024-03-04T22:48:11.328583Z"
    }
   },
   "id": "f8e6b2d72ef88428",
   "execution_count": 24
  }
 ],
 "metadata": {
  "kernelspec": {
   "display_name": "Python 3",
   "language": "python",
   "name": "python3"
  },
  "language_info": {
   "codemirror_mode": {
    "name": "ipython",
    "version": 2
   },
   "file_extension": ".py",
   "mimetype": "text/x-python",
   "name": "python",
   "nbconvert_exporter": "python",
   "pygments_lexer": "ipython2",
   "version": "2.7.6"
  }
 },
 "nbformat": 4,
 "nbformat_minor": 5
}
