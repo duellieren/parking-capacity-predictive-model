{
 "cells": [
  {
   "cell_type": "markdown",
   "source": [
    "## Data exploration"
   ],
   "metadata": {
    "collapsed": false
   },
   "id": "847a6555309e609f"
  },
  {
   "cell_type": "code",
   "execution_count": 186,
   "outputs": [],
   "source": [
    "# Pandas ist eine Bibliothek, die das Einlesen und Verarbeiten von Daten erleichtert.\n",
    "import pandas as pd"
   ],
   "metadata": {
    "collapsed": false,
    "ExecuteTime": {
     "end_time": "2024-03-02T18:46:17.876221500Z",
     "start_time": "2024-03-02T18:46:17.860183200Z"
    }
   },
   "id": "dda7d6eab1160069"
  },
  {
   "cell_type": "markdown",
   "source": [
    "Der erste Schritt ist das Einlesen der Daten aus der originalen Excel-Datei.\n",
    "Die Daten werden in einem DataFrame gespeichert."
   ],
   "metadata": {
    "collapsed": false
   },
   "id": "ce3f7f0961cd9be6"
  },
  {
   "cell_type": "code",
   "execution_count": 187,
   "id": "initial_id",
   "metadata": {
    "collapsed": true,
    "ExecuteTime": {
     "end_time": "2024-03-02T18:46:18.025998700Z",
     "start_time": "2024-03-02T18:46:17.876221500Z"
    }
   },
   "outputs": [],
   "source": [
    "data = pd.read_excel('data/original/Ein-Ausfahrten_Wildpark_Alle.xlsx')"
   ]
  },
  {
   "cell_type": "code",
   "execution_count": 188,
   "outputs": [
    {
     "name": "stdout",
     "output_type": "stream",
     "text": [
      "         Tag  Kurzparker Einfahrten  Kurzparker Ausfahrten     PName\n",
      "0 2015-01-01                     90                    100  Wildpark\n",
      "1 2015-01-02                     50                     49  Wildpark\n",
      "2 2015-01-03                     50                     52  Wildpark\n",
      "3 2015-01-04                    151                    150  Wildpark\n",
      "4 2015-01-05                     98                     97  Wildpark\n",
      "5 2015-01-06                    184                    182  Wildpark\n",
      "6 2015-01-07                     46                     46  Wildpark\n",
      "7 2015-01-08                     40                     38  Wildpark\n",
      "8 2015-01-09                     35                     36  Wildpark\n",
      "9 2015-01-10                    199                    199  Wildpark\n"
     ]
    }
   ],
   "source": [
    "# Die ersten 10 Zeilen des DataFrames werden ausgegeben.\n",
    "print(data.head(10))"
   ],
   "metadata": {
    "collapsed": false,
    "ExecuteTime": {
     "end_time": "2024-03-02T18:46:18.031853500Z",
     "start_time": "2024-03-02T18:46:18.028330400Z"
    }
   },
   "id": "9cde50cbe7791b1a"
  },
  {
   "cell_type": "code",
   "execution_count": 189,
   "outputs": [
    {
     "name": "stdout",
     "output_type": "stream",
     "text": [
      "            Tag  Kurzparker Einfahrten  Kurzparker Ausfahrten     PName\n",
      "2995 2023-04-24                     45                     45  Wildpark\n",
      "2996 2023-04-25                     39                     39  Wildpark\n",
      "2997 2023-04-26                    111                    112  Wildpark\n",
      "2998 2023-04-27                    105                    107  Wildpark\n",
      "2999 2023-04-28                     33                     33  Wildpark\n",
      "3000 2023-04-29                    205                    205  Wildpark\n",
      "3001 2023-04-30                    422                    424  Wildpark\n",
      "3002 2023-05-01                    100                    100  Wildpark\n",
      "3003 2023-05-02                     53                     53  Wildpark\n",
      "3004 2023-05-03                     76                     30  Wildpark\n"
     ]
    }
   ],
   "source": [
    "# Die letzten 10 Zeilen des DataFrames werden ausgegeben.\n",
    "print(data.tail(10))"
   ],
   "metadata": {
    "collapsed": false,
    "ExecuteTime": {
     "end_time": "2024-03-02T18:46:18.039042900Z",
     "start_time": "2024-03-02T18:46:18.031853500Z"
    }
   },
   "id": "56b0c969deb6f638"
  },
  {
   "cell_type": "code",
   "execution_count": 190,
   "outputs": [],
   "source": [
    "# Die Spalte 'PName' enthält den Namen der Parkmöglichkeit und wird entfernt, da sie nicht benötigt wird.\n",
    "data = data.drop(columns=['PName'])"
   ],
   "metadata": {
    "collapsed": false,
    "ExecuteTime": {
     "end_time": "2024-03-02T18:46:18.045756200Z",
     "start_time": "2024-03-02T18:46:18.039042900Z"
    }
   },
   "id": "f0f7aa0fa008d26d"
  },
  {
   "cell_type": "code",
   "execution_count": 191,
   "outputs": [
    {
     "name": "stdout",
     "output_type": "stream",
     "text": [
      "Empty DataFrame\n",
      "Columns: [Tag, Kurzparker Einfahrten, Kurzparker Ausfahrten]\n",
      "Index: []\n"
     ]
    }
   ],
   "source": [
    "# Es wird überprüft, ob es Reihen mit fehlenden Werten (NaN-Werten) gibt.\n",
    "print(data[data.isna().any(axis=1)])"
   ],
   "metadata": {
    "collapsed": false,
    "ExecuteTime": {
     "end_time": "2024-03-02T18:46:18.085551100Z",
     "start_time": "2024-03-02T18:46:18.045756200Z"
    }
   },
   "id": "25d18f20b43ffa93"
  },
  {
   "cell_type": "code",
   "execution_count": 192,
   "outputs": [
    {
     "name": "stdout",
     "output_type": "stream",
     "text": [
      "Empty DataFrame\n",
      "Columns: [Tag, Kurzparker Einfahrten, Kurzparker Ausfahrten]\n",
      "Index: []\n"
     ]
    }
   ],
   "source": [
    "# Es wird überprüft, ob es Reihen mit duplizierten Werten gibt.\n",
    "print(data[data.duplicated()])"
   ],
   "metadata": {
    "collapsed": false,
    "ExecuteTime": {
     "end_time": "2024-03-02T18:46:18.086057300Z",
     "start_time": "2024-03-02T18:46:18.054548100Z"
    }
   },
   "id": "615f448a603f40a5"
  },
  {
   "cell_type": "code",
   "execution_count": 193,
   "outputs": [
    {
     "name": "stdout",
     "output_type": "stream",
     "text": [
      "Empty DataFrame\n",
      "Columns: [Tag, Kurzparker Einfahrten, Kurzparker Ausfahrten]\n",
      "Index: []\n"
     ]
    }
   ],
   "source": [
    "# Es wird überprüft, ob es doplizierte Werte in der Spalte 'Tag' gibt.\n",
    "print(data[data['Tag'].duplicated()])"
   ],
   "metadata": {
    "collapsed": false,
    "ExecuteTime": {
     "end_time": "2024-03-02T18:46:18.086057300Z",
     "start_time": "2024-03-02T18:46:18.060549900Z"
    }
   },
   "id": "be87a6b984d8333e"
  },
  {
   "cell_type": "code",
   "execution_count": 194,
   "outputs": [
    {
     "name": "stdout",
     "output_type": "stream",
     "text": [
      "Anzahl der Tage zwischen dem 1.1.2015 und dem 3.5.2023: 3045\n",
      "Anzahl der Tage, die in den Daten enthalten sind: 3005\n",
      "Anzahl der fehlenden Tage: 40\n"
     ]
    }
   ],
   "source": [
    "# Die Anzahl der Tage zwischen vom 1.1.2015 bis zum 3.5.2023 wird berechnet\n",
    "days = pd.date_range(start='2015-01-01', end='2023-05-03').nunique()\n",
    "\n",
    "# Die Anzahl der Tage, die in den Daten enthalten sind, wird berechnet\n",
    "days_in_data = data['Tag'].nunique()\n",
    "\n",
    "print(f'Anzahl der Tage zwischen dem 1.1.2015 und dem 3.5.2023: {days}')\n",
    "print(f'Anzahl der Tage, die in den Daten enthalten sind: {days_in_data}')\n",
    "print(f'Anzahl der fehlenden Tage: {days - days_in_data}')\n"
   ],
   "metadata": {
    "collapsed": false,
    "ExecuteTime": {
     "end_time": "2024-03-02T18:46:18.086057300Z",
     "start_time": "2024-03-02T18:46:18.066694100Z"
    }
   },
   "id": "6eb97b269bf0aa28"
  },
  {
   "cell_type": "markdown",
   "source": [
    "Die Anzahl der Tage, die in den Daten enthalten sind, ist kleiner als die Anzahl der Tage zwischen dem 1.1.2015 und dem 3.5.2023. Es fehlen 40 Tage in den Daten."
   ],
   "metadata": {
    "collapsed": false
   },
   "id": "a416d9690171807d"
  },
  {
   "cell_type": "code",
   "execution_count": 195,
   "outputs": [
    {
     "name": "stdout",
     "output_type": "stream",
     "text": [
      "Fehlende Tage: DatetimeIndex(['2015-07-17', '2015-07-18', '2015-07-19', '2016-12-06',\n",
      "               '2016-12-07', '2017-07-05', '2017-07-06', '2017-07-07',\n",
      "               '2017-07-08', '2017-07-09', '2017-10-03', '2017-10-04',\n",
      "               '2017-10-05', '2017-12-19', '2018-09-24', '2018-09-25',\n",
      "               '2018-09-26', '2019-07-27', '2019-07-28', '2019-07-29',\n",
      "               '2019-07-30', '2019-07-31', '2019-08-01', '2019-08-02',\n",
      "               '2019-08-03', '2019-08-04', '2019-08-05', '2019-08-06',\n",
      "               '2019-10-16', '2019-10-17', '2019-10-18', '2020-08-19',\n",
      "               '2020-08-20', '2020-12-18', '2020-12-19', '2020-12-20',\n",
      "               '2020-12-21', '2022-07-29', '2022-07-30', '2022-07-31'],\n",
      "              dtype='datetime64[ns]', freq=None)\n"
     ]
    }
   ],
   "source": [
    "missing_days = pd.date_range(start='2015-01-01', end='2023-05-03').difference(data['Tag'])\n",
    "print(f'Fehlende Tage: {missing_days}')"
   ],
   "metadata": {
    "collapsed": false,
    "ExecuteTime": {
     "end_time": "2024-03-02T18:46:18.086057300Z",
     "start_time": "2024-03-02T18:46:18.073434200Z"
    }
   },
   "id": "13c01669d00ff2ed"
  },
  {
   "cell_type": "code",
   "execution_count": 196,
   "outputs": [
    {
     "name": "stdout",
     "output_type": "stream",
     "text": [
      "Prozentsatz der fehlenden Tage an der Gesamtanzahl der Tage: 1.31%\n"
     ]
    }
   ],
   "source": [
    "# Prozentsatz der fehlenden Tage an der Gesamtanzahl der Tage\n",
    "missing_days_percentage = (len(missing_days) / days) * 100\n",
    "print(f'Prozentsatz der fehlenden Tage an der Gesamtanzahl der Tage: {missing_days_percentage:.2f}%')"
   ],
   "metadata": {
    "collapsed": false,
    "ExecuteTime": {
     "end_time": "2024-03-02T18:46:18.086057300Z",
     "start_time": "2024-03-02T18:46:18.080318400Z"
    }
   },
   "id": "828634d707edfd60"
  },
  {
   "cell_type": "markdown",
   "source": [
    "Die Daten sind ausreichend vollständig und können weiterverarbeitet werden."
   ],
   "metadata": {
    "collapsed": false
   },
   "id": "2b53154f9362e241"
  }
 ],
 "metadata": {
  "kernelspec": {
   "display_name": "Python 3",
   "language": "python",
   "name": "python3"
  },
  "language_info": {
   "codemirror_mode": {
    "name": "ipython",
    "version": 2
   },
   "file_extension": ".py",
   "mimetype": "text/x-python",
   "name": "python",
   "nbconvert_exporter": "python",
   "pygments_lexer": "ipython2",
   "version": "2.7.6"
  }
 },
 "nbformat": 4,
 "nbformat_minor": 5
}
